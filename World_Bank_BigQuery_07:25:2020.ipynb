{
 "cells": [
  {
   "cell_type": "markdown",
   "metadata": {},
   "source": [
    "# Project World Bank\n",
    "\n",
    "By Mostafa Jubayer Khan\n",
    "\n"
   ]
  },
  {
   "cell_type": "code",
   "execution_count": 1,
   "metadata": {},
   "outputs": [],
   "source": [
    "#Importing the Pandas & NumPy Libraries\n",
    "\n",
    "import pandas as pd\n",
    "import numpy as np\n",
    "import pandas_gbq as gbq\n"
   ]
  },
  {
   "cell_type": "markdown",
   "metadata": {},
   "source": [
    "### Reading the all the CSV Files"
   ]
  },
  {
   "cell_type": "code",
   "execution_count": 2,
   "metadata": {},
   "outputs": [
    {
     "data": {
      "text/plain": [
       "Index(['Country Name', 'Country Code', 'Indicator Name', 'Indicator Code',\n",
       "       '1960', '1961', '1962', '1963', '1964', '1965', '1966', '1967', '1968',\n",
       "       '1969', '1970', '1971', '1972', '1973', '1974', '1975', '1976', '1977',\n",
       "       '1978', '1979', '1980', '1981', '1982', '1983', '1984', '1985', '1986',\n",
       "       '1987', '1988', '1989', '1990', '1991', '1992', '1993', '1994', '1995',\n",
       "       '1996', '1997', '1998', '1999', '2000', '2001', '2002', '2003', '2004',\n",
       "       '2005', '2006', '2007', '2008', '2009', '2010', '2011', '2012', '2013',\n",
       "       '2014', '2015', '2016', '2017', '2018', '2019', 'Unnamed: 64'],\n",
       "      dtype='object')"
      ]
     },
     "execution_count": 2,
     "metadata": {},
     "output_type": "execute_result"
    }
   ],
   "source": [
    "df_1 = pd.read_csv('/Users/mostafajubayerkhan/Desktop/Education/Nandish_IT/Data/API_EN.ATM.PM25.MC.ZS_DS2_en_csv_v2_1217689.csv', sep=',', header=0, skiprows=3, nrows=267)\n",
    "df_1.columns\n",
    "\n",
    "df_2 = pd.read_csv('/Users/mostafajubayerkhan/Desktop/Education/Nandish_IT/Data/API_NY.GDP.MKTP.CD_DS2_en_csv_v2_1217511.csv', sep=',', header=0, skiprows=3, nrows=267)\n",
    "df_2.columns\n",
    "\n",
    "df_3 = pd.read_csv('/Users/mostafajubayerkhan/Desktop/Education/Nandish_IT/Data/API_NY.GDP.MKTP.KD.ZG_DS2_en_csv_v2_1217525.csv', sep=',', header=0, skiprows=3, nrows=267)\n",
    "df_3.columns\n",
    "\n",
    "df_4 = pd.read_csv('/Users/mostafajubayerkhan/Desktop/Education/Nandish_IT/Data/API_SE.PRM.CMPT.ZS_DS2_en_csv_v2_1217813.csv', sep=',', header=0, skiprows=3, nrows=267)\n",
    "df_4.columns\n",
    "\n",
    "df_5 = pd.read_csv('/Users/mostafajubayerkhan/Desktop/Education/Nandish_IT/Data/API_SI.POV.DDAY_DS2_en_csv_v2_1217581.csv', sep=',', header=0, skiprows=3, nrows=267)\n",
    "df_5.columns\n",
    "\n",
    "df_6 = pd.read_csv('/Users/mostafajubayerkhan/Desktop/Education/Nandish_IT/Data/API_SP.POP.1564.TO.ZS_DS2_en_csv_v2_1217810.csv', sep=',', header=0, skiprows=3, nrows=267)\n",
    "df_6.columns\n",
    "\n",
    "df_7 = pd.read_csv('/Users/mostafajubayerkhan/Desktop/Education/Nandish_IT/Data/API_SP.POP.TOTL_DS2_en_csv_v2_1217749.csv', sep=',', header=0, skiprows=3, nrows=267)\n",
    "df_7.columns\n"
   ]
  },
  {
   "cell_type": "code",
   "execution_count": 3,
   "metadata": {},
   "outputs": [
    {
     "data": {
      "text/plain": [
       "Index(['Country Name', 'Country Code', 'Indicator Name', 'Indicator Code',\n",
       "       '1960', '1961', '1962', '1963', '1964', '1965', '1966', '1967', '1968',\n",
       "       '1969', '1970', '1971', '1972', '1973', '1974', '1975', '1976', '1977',\n",
       "       '1978', '1979', '1980', '1981', '1982', '1983', '1984', '1985', '1986',\n",
       "       '1987', '1988', '1989', '1990', '1991', '1992', '1993', '1994', '1995',\n",
       "       '1996', '1997', '1998', '1999', '2000', '2001', '2002', '2003', '2004',\n",
       "       '2005', '2006', '2007', '2008', '2009', '2010', '2011', '2012', '2013',\n",
       "       '2014', '2015', '2016', '2017', '2018', '2019'],\n",
       "      dtype='object')"
      ]
     },
     "execution_count": 3,
     "metadata": {},
     "output_type": "execute_result"
    }
   ],
   "source": [
    "# Removing the last, unwanted \"Unamed : 64\" Column from all the DataFrame.\n",
    "\n",
    "df_1=df_1.drop('Unnamed: 64' , 1)\n",
    "df_1.columns\n",
    "\n",
    "df_2=df_2.drop('Unnamed: 64' , 1)\n",
    "df_2.columns\n",
    "\n",
    "df_3=df_3.drop('Unnamed: 64' , 1)\n",
    "df_3.columns\n",
    "\n",
    "df_4=df_4.drop('Unnamed: 64' , 1)\n",
    "df_4.columns\n",
    "\n",
    "df_5=df_5.drop('Unnamed: 64' , 1)\n",
    "df_5.columns\n",
    "\n",
    "df_6=df_6.drop('Unnamed: 64' , 1)\n",
    "df_6.columns\n",
    "\n",
    "df_7=df_7.drop('Unnamed: 64' , 1)\n",
    "df_7.columns"
   ]
  },
  {
   "cell_type": "code",
   "execution_count": 4,
   "metadata": {},
   "outputs": [],
   "source": [
    "df_1= df_1.melt(id_vars = ['Country Name', 'Country Code', 'Indicator Name', 'Indicator Code'], var_name = \"year\")\n",
    "df_2= df_2.melt(id_vars = ['Country Name', 'Country Code', 'Indicator Name', 'Indicator Code'], var_name = \"year\")\n",
    "df_3= df_3.melt(id_vars = ['Country Name', 'Country Code', 'Indicator Name', 'Indicator Code'], var_name = \"year\")\n",
    "df_4= df_4.melt(id_vars = ['Country Name', 'Country Code', 'Indicator Name', 'Indicator Code'], var_name = \"year\")\n",
    "df_5= df_5.melt(id_vars = ['Country Name', 'Country Code', 'Indicator Name', 'Indicator Code'], var_name = \"year\")\n",
    "df_6= df_6.melt(id_vars = ['Country Name', 'Country Code', 'Indicator Name', 'Indicator Code'], var_name = \"year\")\n",
    "df_7= df_7.melt(id_vars = ['Country Name', 'Country Code', 'Indicator Name', 'Indicator Code'], var_name = \"year\")\n"
   ]
  },
  {
   "cell_type": "code",
   "execution_count": 5,
   "metadata": {},
   "outputs": [],
   "source": [
    "# Renaming to Columns of the respective dataframes for removing extra space within the columns for uploading into the GoogLe Big Query\n",
    "df_1=df_1.rename(columns={'Country Name':'Country_Name','Country Code':'Country_Code','Indicator Name':'Indicator_Name','Indicator Code': 'Indicator_Code'})\n",
    "df_2=df_2.rename(columns={'Country Name':'Country_Name','Country Code':'Country_Code','Indicator Name':'Indicator_Name','Indicator Code': 'Indicator_Code'})\n",
    "df_3=df_3.rename(columns={'Country Name':'Country_Name','Country Code':'Country_Code','Indicator Name':'Indicator_Name','Indicator Code': 'Indicator_Code'})\n",
    "df_4=df_4.rename(columns={'Country Name':'Country_Name','Country Code':'Country_Code','Indicator Name':'Indicator_Name','Indicator Code': 'Indicator_Code'})\n",
    "df_5=df_5.rename(columns={'Country Name':'Country_Name','Country Code':'Country_Code','Indicator Name':'Indicator_Name','Indicator Code': 'Indicator_Code'})\n",
    "df_6=df_6.rename(columns={'Country Name':'Country_Name','Country Code':'Country_Code','Indicator Name':'Indicator_Name','Indicator Code': 'Indicator_Code'})\n",
    "df_7=df_7.rename(columns={'Country Name':'Country_Name','Country Code':'Country_Code','Indicator Name':'Indicator_Name','Indicator Code': 'Indicator_Code'})\n"
   ]
  },
  {
   "cell_type": "markdown",
   "metadata": {},
   "source": [
    "### Uploading all the dataframes (df_1 to df_7)  into the Google BigQuery"
   ]
  },
  {
   "cell_type": "code",
   "execution_count": 6,
   "metadata": {},
   "outputs": [
    {
     "name": "stderr",
     "output_type": "stream",
     "text": [
      "1it [00:28, 28.19s/it]\n",
      "1it [00:04,  4.86s/it]\n",
      "1it [00:06,  6.10s/it]\n",
      "1it [00:08,  8.48s/it]\n",
      "1it [00:05,  5.07s/it]\n",
      "1it [00:05,  5.30s/it]\n",
      "1it [00:05,  5.31s/it]"
     ]
    },
    {
     "name": "stdout",
     "output_type": "stream",
     "text": [
      "Done Uploading into gbq\n",
      "Done Uploading into gbq\n",
      "Done Uploading into gbq\n",
      "Done Uploading into gbq\n",
      "Done Uploading into gbq\n",
      "Done Uploading into gbq\n",
      "Done Uploading into gbq\n",
      "Done Uploading into gbq\n"
     ]
    },
    {
     "name": "stderr",
     "output_type": "stream",
     "text": [
      "\n"
     ]
    }
   ],
   "source": [
    "# Uploading all the 7 dataframes in to the Google Big Query\n",
    "a = gbq.to_gbq(df_1, destination_table='BigQuery.df_1', project_id='commanding-air-282216', if_exists='replace')\n",
    "b = gbq.to_gbq(df_2, destination_table='BigQuery.df_2', project_id='commanding-air-282216', if_exists='replace')\n",
    "c = gbq.to_gbq(df_3, destination_table='BigQuery.df_3', project_id='commanding-air-282216', if_exists='replace')\n",
    "d = gbq.to_gbq(df_4, destination_table='BigQuery.df_4', project_id='commanding-air-282216', if_exists='replace')\n",
    "e = gbq.to_gbq(df_5, destination_table='BigQuery.df_5', project_id='commanding-air-282216', if_exists='replace')\n",
    "f = gbq.to_gbq(df_6, destination_table='BigQuery.df_6', project_id='commanding-air-282216', if_exists='replace')\n",
    "g = gbq.to_gbq(df_7, destination_table='BigQuery.df_7', project_id='commanding-air-282216', if_exists='replace')\n",
    "\n",
    "df =[a,b,c,d,e,f,g]\n",
    "\n",
    "for i in df :\n",
    "#    i += 1\n",
    "    pass\n",
    "    print('Done Uploading into gbq')\n",
    "\n",
    "print('Done Uploading into gbq')"
   ]
  },
  {
   "cell_type": "code",
   "execution_count": null,
   "metadata": {},
   "outputs": [],
   "source": []
  }
 ],
 "metadata": {
  "kernelspec": {
   "display_name": "Python 3",
   "language": "python",
   "name": "python3"
  },
  "language_info": {
   "codemirror_mode": {
    "name": "ipython",
    "version": 3
   },
   "file_extension": ".py",
   "mimetype": "text/x-python",
   "name": "python",
   "nbconvert_exporter": "python",
   "pygments_lexer": "ipython3",
   "version": "3.7.4"
  }
 },
 "nbformat": 4,
 "nbformat_minor": 2
}
